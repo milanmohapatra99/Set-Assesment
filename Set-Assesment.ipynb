{
 "cells": [
  {
   "cell_type": "code",
   "execution_count": 2,
   "id": "8014a738",
   "metadata": {},
   "outputs": [
    {
     "name": "stdout",
     "output_type": "stream",
     "text": [
      "0 1 2 3 4 5 \n",
      "\n",
      "Creating a set using string:\n",
      "n h p y g a m r t o "
     ]
    }
   ],
   "source": [
    "# w.a.p to iterate over set\n",
    "num_set = set([0, 1, 2, 3, 4, 5])\n",
    "for n in num_set:\n",
    "  print(n, end=' ')\n",
    "print(\"\\n\\nCreating a set using string:\")\n",
    "char_set = set(\"pythonprogram\")  \n",
    "# Iterating using for loop\n",
    "for val in char_set:\n",
    "    print(val, end=' ')"
   ]
  },
  {
   "cell_type": "code",
   "execution_count": 3,
   "id": "393bc6dd",
   "metadata": {},
   "outputs": [
    {
     "name": "stdout",
     "output_type": "stream",
     "text": [
      "set()\n",
      "\n",
      "Add single element:\n",
      "{'Red'}\n",
      "\n",
      "Add multiple items:\n",
      "{'Blue', 'Red', 'Green'}\n"
     ]
    }
   ],
   "source": [
    "#w.a.p Add member in a set\n",
    "color_set = set()\n",
    "print(color_set)\n",
    "print(\"\\nAdd single element:\")\n",
    "color_set.add(\"Red\")\n",
    "print(color_set)\n",
    "print(\"\\nAdd multiple items:\")\n",
    "color_set.update([\"Blue\", \"Green\"])\n",
    "print(color_set)"
   ]
  },
  {
   "cell_type": "code",
   "execution_count": 5,
   "id": "887e4016",
   "metadata": {},
   "outputs": [
    {
     "name": "stdout",
     "output_type": "stream",
     "text": [
      "Original set:\n",
      "{0, 1, 3, 4, 5}\n",
      "\n",
      "After removing the first element from the said set:\n",
      "{0, 1, 3, 4, 5}\n"
     ]
    }
   ],
   "source": [
    "# w.a.p Remove items from Python set\n",
    "numset = set([0, 1, 3, 4, 5])\n",
    "print(\"Original set:\")\n",
    "print(numset)\n",
    "num_set.pop()\n",
    "print(\"\\nAfter removing the first element from the said set:\")\n",
    "print(numset)"
   ]
  },
  {
   "cell_type": "code",
   "execution_count": 7,
   "id": "65735d96",
   "metadata": {},
   "outputs": [
    {
     "name": "stdout",
     "output_type": "stream",
     "text": [
      "Original set elements:\n",
      "{1, 2, 3, 5, 10, 15, 50, 20}\n",
      "<class 'set'>\n",
      "\n",
      "Maximum value of the said set:\n",
      "50\n",
      "\n",
      "Minimum value of the said set:\n",
      "1\n"
     ]
    }
   ],
   "source": [
    "# w.a.p to Find maximum and the minimum value in a set\n",
    "setn = {5, 10, 3, 15, 2, 20,50,1}\n",
    "print(\"Original set elements:\")\n",
    "print(setn)\n",
    "print(type(setn))\n",
    "print(\"\\nMaximum value of the said set:\")\n",
    "print(max(setn))\n",
    "print(\"\\nMinimum value of the said set:\")\n",
    "print(min(setn))"
   ]
  },
  {
   "cell_type": "code",
   "execution_count": 10,
   "id": "9465c5fd",
   "metadata": {},
   "outputs": [
    {
     "name": "stdout",
     "output_type": "stream",
     "text": [
      "Original set elements:\n",
      "{2, 3, 20, 5, 10, 15}\n",
      "<class 'set'>\n",
      "\n",
      "Length of the said set:\n",
      "6\n",
      "Original set elements:\n",
      "{5, 6}\n",
      "<class 'set'>\n",
      "\n",
      "Length of the said set:\n",
      "2\n",
      "Original set elements:\n",
      "{5, 6, 7}\n",
      "<class 'set'>\n",
      "\n",
      "Length of the said set:\n",
      "3\n"
     ]
    }
   ],
   "source": [
    "# w.a.p to Find the length of a set\n",
    "setn = {5, 10, 3, 15, 2, 20}\n",
    "print(\"Original set elements:\")\n",
    "print(setn)\n",
    "print(type(setn))\n",
    "print(\"\\nLength of the said set:\")\n",
    "print(len(setn))\n",
    "\n",
    "setn = {5, 5, 5, 6, 6, 6}\n",
    "print(\"Original set elements:\")\n",
    "print(setn)\n",
    "print(type(setn))\n",
    "print(\"\\nLength of the said set:\")\n",
    "print(len(setn))\n",
    "\n",
    "setn = {5, 5, 5, 5, 6, 6, 7}\n",
    "print(\"Original set elements:\")\n",
    "print(setn)\n",
    "print(type(setn))\n",
    "print(\"\\nLength of the said set:\")\n",
    "print(len(setn))"
   ]
  },
  {
   "cell_type": "code",
   "execution_count": null,
   "id": "367d21d7",
   "metadata": {},
   "outputs": [],
   "source": []
  }
 ],
 "metadata": {
  "kernelspec": {
   "display_name": "Python 3 (ipykernel)",
   "language": "python",
   "name": "python3"
  },
  "language_info": {
   "codemirror_mode": {
    "name": "ipython",
    "version": 3
   },
   "file_extension": ".py",
   "mimetype": "text/x-python",
   "name": "python",
   "nbconvert_exporter": "python",
   "pygments_lexer": "ipython3",
   "version": "3.9.7"
  }
 },
 "nbformat": 4,
 "nbformat_minor": 5
}
